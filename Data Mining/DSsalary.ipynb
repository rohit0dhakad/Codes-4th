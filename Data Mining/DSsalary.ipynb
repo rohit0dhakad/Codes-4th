{
 "cells": [
  {
   "cell_type": "code",
   "execution_count": null,
   "metadata": {},
   "outputs": [],
   "source": [
    "import pandas as pd;\n",
    "import numpy as np;\n",
    "import matplotlib.pyplot as plt\n",
    "df = pd.read_csv(\"/Users/rohitdhaker/Downloads/ds_salaries.csv\")\n",
    "df.head(4)"
   ]
  },
  {
   "cell_type": "code",
   "execution_count": null,
   "metadata": {},
   "outputs": [],
   "source": [
    "df.isnull().sum()"
   ]
  },
  {
   "cell_type": "code",
   "execution_count": null,
   "metadata": {},
   "outputs": [],
   "source": [
    "df1 = df.groupby('salary_currency')['salary'].groups\n",
    "df1"
   ]
  },
  {
   "cell_type": "code",
   "execution_count": null,
   "metadata": {},
   "outputs": [],
   "source": [
    "df2=pd.DataFrame.from_dict(df1,orient='index').transpose()\n",
    "df2"
   ]
  },
  {
   "cell_type": "code",
   "execution_count": null,
   "metadata": {},
   "outputs": [],
   "source": [
    "# df3=df2.drop('USD',axis=1)\n",
    "# df3.dropna(thresh=2,axis=0)"
   ]
  },
  {
   "cell_type": "code",
   "execution_count": null,
   "metadata": {},
   "outputs": [],
   "source": [
    "df['experience_level'] = df['experience_level'].replace(\n",
    "    {'EN': 'Entry-Level',\n",
    "     'MI': 'Mid-Level'  ,\n",
    "     'SE': 'Senior'     ,\n",
    "     'EX': 'Executive'} \n",
    ")\n",
    "\n",
    "# Company Size\n",
    "df['company_size'] = df['company_size'].replace(\n",
    "    {'S': 'Small'   ,\n",
    "     'M': 'Medium'  ,\n",
    "     'L': 'Large'   }\n",
    ")\n",
    "df.head()"
   ]
  },
  {
   "cell_type": "code",
   "execution_count": null,
   "metadata": {},
   "outputs": [],
   "source": [
    "df2=pd.Series(data=df1,)\n",
    "df2.head()"
   ]
  },
  {
   "cell_type": "code",
   "execution_count": null,
   "metadata": {},
   "outputs": [],
   "source": [
    "df['inr_salary']=df['salary_in_usd']*82\n",
    "df"
   ]
  },
  {
   "cell_type": "code",
   "execution_count": null,
   "metadata": {},
   "outputs": [],
   "source": [
    "df.groupby('job_title').size()\n"
   ]
  },
  {
   "cell_type": "code",
   "execution_count": null,
   "metadata": {},
   "outputs": [],
   "source": [
    "# sum of All job's salary\n",
    "df.groupby('job_title')['salary'].sum()"
   ]
  },
  {
   "cell_type": "code",
   "execution_count": null,
   "metadata": {},
   "outputs": [],
   "source": [
    "df['Salary_Binary'] = (df['salary'] > 30000).astype(bool)\n",
    "print(\"\\nBinarized Age:\")\n",
    "print(df['Salary_Binary'])"
   ]
  },
  {
   "cell_type": "code",
   "execution_count": null,
   "metadata": {},
   "outputs": [],
   "source": [
    "# % of all propation's employs\n",
    "fgfh=((df.groupby('job_title').size())/(df.groupby('job_title').size().sum()))*100\n",
    "hg=df.groupby('job_title').size().sum()\n",
    "fgfh"
   ]
  },
  {
   "cell_type": "code",
   "execution_count": null,
   "metadata": {},
   "outputs": [],
   "source": [
    "# for max salary\n",
    "maxu=df['salary'].max()\n",
    "maxi=df['salary']==df['salary'].max()\n",
    "maxu\n",
    "# maxi    #for true false index of max salary\n",
    "\n",
    "\n",
    "# df69"
   ]
  },
  {
   "cell_type": "code",
   "execution_count": null,
   "metadata": {},
   "outputs": [],
   "source": [
    "# for Max salary's job title\n",
    "df[maxi==True]['job_title']"
   ]
  },
  {
   "cell_type": "code",
   "execution_count": null,
   "metadata": {},
   "outputs": [],
   "source": [
    "df['salary'].corr(df['salary_in_usd'])"
   ]
  },
  {
   "cell_type": "code",
   "execution_count": null,
   "metadata": {},
   "outputs": [],
   "source": [
    "plt.scatter(df['salary'].head(),df['inr_salary'].head())\n",
    "plt.xlabel('Salary')\n",
    "plt.ylabel('Salary_in_use')\n",
    "plt.title('corr')\n",
    "plt.grid(True)\n",
    "plt.show()"
   ]
  },
  {
   "cell_type": "code",
   "execution_count": null,
   "metadata": {},
   "outputs": [],
   "source": [
    "# df['salary'] = (df['salary'] / 1000).astype(float).astype(str) + 'k'\n",
    "# df.head"
   ]
  },
  {
   "cell_type": "code",
   "execution_count": null,
   "metadata": {},
   "outputs": [],
   "source": [
    "df3=df['job_title'].drop_duplicates()\n",
    "df3.head()"
   ]
  },
  {
   "cell_type": "code",
   "execution_count": null,
   "metadata": {},
   "outputs": [],
   "source": [
    "plt.xlabel('Job Title')\n",
    "plt.ylabel('Percentage')\n",
    "plt.title('Job - Percentage')\n",
    "plt.plot(df3.head(),fgfh.head())"
   ]
  },
  {
   "cell_type": "code",
   "execution_count": null,
   "metadata": {},
   "outputs": [],
   "source": [
    "df = df.sample(frac=0.01, random_state=10)\n",
    "print(\"\\nRandomly Sampled Data:\")\n",
    "print(df)"
   ]
  }
 ],
 "metadata": {
  "kernelspec": {
   "display_name": "Python 3",
   "language": "python",
   "name": "python3"
  },
  "language_info": {
   "codemirror_mode": {
    "name": "ipython",
    "version": 3
   },
   "file_extension": ".py",
   "mimetype": "text/x-python",
   "name": "python",
   "nbconvert_exporter": "python",
   "pygments_lexer": "ipython3",
   "version": "3.12.0"
  }
 },
 "nbformat": 4,
 "nbformat_minor": 2
}
